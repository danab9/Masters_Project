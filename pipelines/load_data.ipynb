{
 "cells": [
  {
   "cell_type": "markdown",
   "metadata": {},
   "source": [
    "# Load Data"
   ]
  },
  {
   "cell_type": "markdown",
   "metadata": {},
   "source": [
    "Load raw single cell RNA-seq and necessary annotations for SCENIC pipeline application\n",
    "\n",
    "-----"
   ]
  },
  {
   "cell_type": "markdown",
   "metadata": {},
   "source": [
    "First, some technicalities "
   ]
  },
  {
   "cell_type": "code",
   "execution_count": 1,
   "metadata": {},
   "outputs": [],
   "source": [
    "import pandas as pd\n",
    "import rpy2.robjects as robjects\n",
    "from rpy2.robjects import pandas2ri"
   ]
  },
  {
   "cell_type": "code",
   "execution_count": 2,
   "metadata": {},
   "outputs": [],
   "source": [
    "# Enable pandas conversion for R data frames\n",
    "pandas2ri.activate()"
   ]
  },
  {
   "cell_type": "markdown",
   "metadata": {},
   "source": [
    "#### Source my R functions that handle Seurat objects"
   ]
  },
  {
   "cell_type": "code",
   "execution_count": 3,
   "metadata": {},
   "outputs": [
    {
     "name": "stdout",
     "output_type": "stream",
     "text": [
      "\n",
      "    WARNING: The R package \"reticulate\" only fixed recently\n",
      "    an issue that caused a segfault when used with rpy2:\n",
      "    https://github.com/rstudio/reticulate/pull/1188\n",
      "    Make sure that you use a version of that package that includes\n",
      "    the fix.\n",
      "    "
     ]
    },
    {
     "name": "stderr",
     "output_type": "stream",
     "text": [
      "R[write to console]: Registered S3 method overwritten by 'SeuratDisk':\n",
      "  method            from  \n",
      "  as.sparse.H5Group Seurat\n",
      "\n",
      "R[write to console]: \n",
      "Attaching package: ‘dplyr’\n",
      "\n",
      "\n",
      "R[write to console]: The following objects are masked from ‘package:stats’:\n",
      "\n",
      "    filter, lag\n",
      "\n",
      "\n",
      "R[write to console]: The following objects are masked from ‘package:base’:\n",
      "\n",
      "    intersect, setdiff, setequal, union\n",
      "\n",
      "\n",
      "R[write to console]: Attaching SeuratObject\n",
      "\n",
      "R[write to console]: Attaching sp\n",
      "\n"
     ]
    },
    {
     "name": "stdout",
     "output_type": "stream",
     "text": [
      "R script sourced successfully!\n"
     ]
    }
   ],
   "source": [
    "try:\n",
    "    # Source the R script\n",
    "    robjects.r.source(\"../scripts/data_loader.R\")\n",
    "    print(\"R script sourced successfully!\")\n",
    "except Exception as e:\n",
    "    print(\"Error sourcing R script:\", e)"
   ]
  },
  {
   "cell_type": "code",
   "execution_count": 4,
   "metadata": {},
   "outputs": [],
   "source": [
    "load_seurat = robjects.globalenv[\"load_seurat\"]\n",
    "extract_raw_counts = robjects.globalenv[\"extract_raw_counts\"]\n",
    "load_cell_types = robjects.globalenv[\"load_cell_types\"]"
   ]
  },
  {
   "cell_type": "markdown",
   "metadata": {},
   "source": [
    "#### Load Seurat file (not public data) with R function"
   ]
  },
  {
   "cell_type": "code",
   "execution_count": 5,
   "metadata": {},
   "outputs": [],
   "source": [
    "%%capture\n",
    "\n",
    "seurat_obj = load_seurat(\"../data/raw/SeuratProject.h5Seurat\")"
   ]
  },
  {
   "cell_type": "markdown",
   "metadata": {},
   "source": [
    "Load raw RNA-seq counts table (and transform to pandas)"
   ]
  },
  {
   "cell_type": "code",
   "execution_count": 6,
   "metadata": {},
   "outputs": [],
   "source": [
    "raw_counts_r = extract_raw_counts(seurat_obj)\n",
    "# Convert the R data frame to a pandas DataFrame\n",
    "raw_counts = pandas2ri.rpy2py_dataframe(raw_counts_r)\n",
    "# print(raw_counts.head())"
   ]
  },
  {
   "cell_type": "markdown",
   "metadata": {},
   "source": [
    "Load cell type annotations for all cells in raw counts"
   ]
  },
  {
   "cell_type": "code",
   "execution_count": 7,
   "metadata": {},
   "outputs": [],
   "source": [
    "cell_types_r = load_cell_types(seurat_obj)\n",
    "cell_types = pandas2ri.rpy2py_dataframe(cell_types_r)\n",
    "# print(cell_types.head())"
   ]
  },
  {
   "cell_type": "markdown",
   "metadata": {},
   "source": [
    "### Save transformed data as CSV for later use "
   ]
  },
  {
   "cell_type": "code",
   "execution_count": 16,
   "metadata": {},
   "outputs": [],
   "source": [
    "raw_counts.to_csv(\"../data/raw/expression_mat.csv\")\n",
    "cell_types.to_csv(\"../data/annotations/cell_types.csv\")"
   ]
  },
  {
   "cell_type": "markdown",
   "metadata": {},
   "source": [
    "-------"
   ]
  },
  {
   "cell_type": "markdown",
   "metadata": {},
   "source": [
    "### Additional information necessary for SCENIC"
   ]
  },
  {
   "cell_type": "markdown",
   "metadata": {},
   "source": [
    "Species specific Transcription Factors names. I used: https://github.com/aertslab/pySCENIC/blob/master/resources/allTFs_dmel.txt (29.3.2023)"
   ]
  },
  {
   "cell_type": "markdown",
   "metadata": {},
   "source": [
    "Save Drosophila TFs names as annotations data"
   ]
  },
  {
   "cell_type": "code",
   "execution_count": null,
   "metadata": {},
   "outputs": [
    {
     "name": "stdout",
     "output_type": "stream",
     "text": [
      "--2024-12-23 11:38:49--  https://github.com/aertslab/pySCENIC/blob/d2309fed83759a0e66e0a995ef3d2f40bf4d6c1a/resources/allTFs_dmel.txt\n",
      "Resolving github.com (github.com)... 140.82.121.3\n",
      "Connecting to github.com (github.com)|140.82.121.3|:443... connected.\n",
      "HTTP request sent, awaiting response... 200 OK\n",
      "Length: unspecified [text/html]\n",
      "Saving to: ‘../data/annotations/allTFs_dmel.txt’\n",
      "\n",
      "../data/annotations     [ <=>                ] 499.13K  --.-KB/s    in 0.1s    \n",
      "\n",
      "2024-12-23 11:38:49 (3.84 MB/s) - ‘../data/annotations/allTFs_dmel.txt’ saved [511106]\n",
      "\n"
     ]
    }
   ],
   "source": [
    "!wget -O ../data/external/allTFs_dmel.txt https://github.com/aertslab/pySCENIC/blob/d2309fed83759a0e66e0a995ef3d2f40bf4d6c1a/resources/allTFs_dmel.txt "
   ]
  },
  {
   "cell_type": "markdown",
   "metadata": {},
   "source": [
    "Ranking databases for motif enrichment: https://resources.aertslab.org/cistarget/ (https://resources.aertslab.org/cistarget/databases/drosophila_melanogaster/dm6/flybase_r6.02/mc8nr/gene_based/)\n",
    "\n"
   ]
  },
  {
   "cell_type": "code",
   "execution_count": null,
   "metadata": {},
   "outputs": [
    {
     "name": "stdout",
     "output_type": "stream",
     "text": [
      "--2024-12-23 11:47:30--  https://resources.aertslab.org/cistarget/databases/drosophila_melanogaster/dm6/flybase_r6.02/mc8nr/gene_based/dm6-5kb-upstream-full-tx-11species.mc8nr.genes_vs_motifs.rankings.feather\n",
      "Resolving resources.aertslab.org (resources.aertslab.org)... 134.58.50.9\n",
      "Connecting to resources.aertslab.org (resources.aertslab.org)|134.58.50.9|:443... connected.\n",
      "HTTP request sent, awaiting response... 200 OK\n",
      "Length: 782107954 (746M)\n",
      "Saving to: ‘../data/forScenic/genes_vs_motifs.rankings.feather’\n",
      "\n",
      "../data/forScenic/g 100%[===================>] 745.88M  12.3MB/s    in 60s     \n",
      "\n",
      "2024-12-23 11:48:31 (12.4 MB/s) - ‘../data/forScenic/genes_vs_motifs.rankings.feather’ saved [782107954/782107954]\n",
      "\n"
     ]
    }
   ],
   "source": [
    "!wget -O ../data/external/genes_vs_motifs.rankings.feather https://resources.aertslab.org/cistarget/databases/drosophila_melanogaster/dm6/flybase_r6.02/mc8nr/gene_based/dm6-5kb-upstream-full-tx-11species.mc8nr.genes_vs_motifs.rankings.feather"
   ]
  },
  {
   "cell_type": "markdown",
   "metadata": {},
   "source": [
    "Motif annotations file: https://resources.aertslab.org/cistarget/motif2tf/ (v8 matches mc8nr db)"
   ]
  },
  {
   "cell_type": "code",
   "execution_count": 19,
   "metadata": {},
   "outputs": [
    {
     "name": "stdout",
     "output_type": "stream",
     "text": [
      "--2024-12-23 12:04:32--  https://resources.aertslab.org/cistarget/motif2tf/motifs-v8-nr.flybase-m0.001-o0.0.tbl\n",
      "Resolving resources.aertslab.org (resources.aertslab.org)... 134.58.50.9\n",
      "Connecting to resources.aertslab.org (resources.aertslab.org)|134.58.50.9|:443... connected.\n",
      "HTTP request sent, awaiting response... 200 OK\n",
      "Length: 40177800 (38M)\n",
      "Saving to: ‘../data/external/flybase_motifs_annotations.tbl’\n",
      "\n",
      "../data/external/fl 100%[===================>]  38.32M  11.9MB/s    in 3.2s    \n",
      "\n",
      "2024-12-23 12:04:35 (11.9 MB/s) - ‘../data/external/flybase_motifs_annotations.tbl’ saved [40177800/40177800]\n",
      "\n"
     ]
    }
   ],
   "source": [
    "!wget -O ../data/external/flybase_motifs_annotations.tbl https://resources.aertslab.org/cistarget/motif2tf/motifs-v8-nr.flybase-m0.001-o0.0.tbl"
   ]
  }
 ],
 "metadata": {
  "kernelspec": {
   "display_name": "devo-grn",
   "language": "python",
   "name": "python3"
  },
  "language_info": {
   "codemirror_mode": {
    "name": "ipython",
    "version": 3
   },
   "file_extension": ".py",
   "mimetype": "text/x-python",
   "name": "python",
   "nbconvert_exporter": "python",
   "pygments_lexer": "ipython3",
   "version": "3.10.9"
  }
 },
 "nbformat": 4,
 "nbformat_minor": 2
}
