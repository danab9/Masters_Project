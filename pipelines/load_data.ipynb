{
 "cells": [
  {
   "cell_type": "markdown",
   "metadata": {},
   "source": [
    "# Load Data"
   ]
  },
  {
   "cell_type": "markdown",
   "metadata": {},
   "source": [
    "First, some technicalities "
   ]
  },
  {
   "cell_type": "code",
   "execution_count": null,
   "metadata": {},
   "outputs": [],
   "source": [
    "import pandas as pd\n",
    "import rpy2.robjects as robjects\n",
    "from rpy2.robjects import pandas2ri"
   ]
  },
  {
   "cell_type": "code",
   "execution_count": null,
   "metadata": {},
   "outputs": [],
   "source": [
    "# Enable pandas conversion for R data frames\n",
    "pandas2ri.activate()"
   ]
  },
  {
   "cell_type": "markdown",
   "metadata": {},
   "source": [
    "#### Source my R functions that handle Seurat objects"
   ]
  },
  {
   "cell_type": "code",
   "execution_count": 17,
   "metadata": {},
   "outputs": [
    {
     "name": "stdout",
     "output_type": "stream",
     "text": [
      "R script sourced successfully!\n"
     ]
    }
   ],
   "source": [
    "try:\n",
    "    # Source the R script\n",
    "    robjects.r.source(\"../scripts/data_loader.R\")\n",
    "    print(\"R script sourced successfully!\")\n",
    "except Exception as e:\n",
    "    print(\"Error sourcing R script:\", e)"
   ]
  },
  {
   "cell_type": "code",
   "execution_count": 35,
   "metadata": {},
   "outputs": [],
   "source": [
    "load_seurat = robjects.globalenv[\"load_seurat\"]\n",
    "extract_raw_counts = robjects.globalenv[\"extract_raw_counts\"]\n",
    "load_cell_types = robjects.globalenv[\"load_cell_types\"]"
   ]
  },
  {
   "cell_type": "markdown",
   "metadata": {},
   "source": [
    "#### Load Seurat file (not public data) with R function"
   ]
  },
  {
   "cell_type": "code",
   "execution_count": null,
   "metadata": {},
   "outputs": [],
   "source": [
    "%%capture\n",
    "\n",
    "seurat_obj = load_seurat(\"../data/raw/SeuratProject.h5Seurat\")"
   ]
  },
  {
   "cell_type": "markdown",
   "metadata": {},
   "source": [
    "Load raw RNA-seq counts table (and transform to pandas)"
   ]
  },
  {
   "cell_type": "code",
   "execution_count": null,
   "metadata": {},
   "outputs": [],
   "source": [
    "raw_counts_r = extract_raw_counts(seurat_obj)\n",
    "# Convert the R data frame to a pandas DataFrame\n",
    "raw_counts = pandas2ri.rpy2py_dataframe(raw_counts_r)\n",
    "# print(raw_counts.head())"
   ]
  },
  {
   "cell_type": "markdown",
   "metadata": {},
   "source": [
    "Load cell type annotations for all cells in raw counts"
   ]
  },
  {
   "cell_type": "code",
   "execution_count": null,
   "metadata": {},
   "outputs": [],
   "source": [
    "cell_types_r = load_cell_types(seurat_obj)\n",
    "cell_types = pandas2ri.rpy2py_dataframe(cell_types_r)\n",
    "# print(cell_types.head())"
   ]
  },
  {
   "cell_type": "markdown",
   "metadata": {},
   "source": [
    "### Save transformed data as CSV for later use "
   ]
  },
  {
   "cell_type": "code",
   "execution_count": 43,
   "metadata": {},
   "outputs": [],
   "source": [
    "raw_counts.to_csv(\"../data/raw_counts.csv\")\n",
    "cell_types.to_csv(\"../data/cell_types_annotations.csv\")"
   ]
  }
 ],
 "metadata": {
  "kernelspec": {
   "display_name": "devo-grn",
   "language": "python",
   "name": "python3"
  },
  "language_info": {
   "codemirror_mode": {
    "name": "ipython",
    "version": 3
   },
   "file_extension": ".py",
   "mimetype": "text/x-python",
   "name": "python",
   "nbconvert_exporter": "python",
   "pygments_lexer": "ipython3",
   "version": "3.10.9"
  }
 },
 "nbformat": 4,
 "nbformat_minor": 2
}
